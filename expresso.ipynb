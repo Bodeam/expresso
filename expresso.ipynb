{
 "cells": [
  {
   "cell_type": "code",
   "execution_count": 1,
   "id": "fbc862e9",
   "metadata": {},
   "outputs": [],
   "source": [
    "import numpy as np \n",
    "import pandas as pd \n",
    "import matplotlib.pyplot as plt \n",
    "import seaborn as sns \n",
    "import plotly.express as px "
   ]
  },
  {
   "cell_type": "code",
   "execution_count": 2,
   "id": "0bf7d277",
   "metadata": {},
   "outputs": [],
   "source": [
    "from sklearn.preprocessing import LabelEncoder\n",
    "from sklearn.model_selection import train_test_split\n",
    "from sklearn.ensemble import RandomForestClassifier\n",
    "from sklearn.metrics import classification_report"
   ]
  },
  {
   "cell_type": "code",
   "execution_count": 4,
   "id": "8b09da09",
   "metadata": {},
   "outputs": [
    {
     "data": {
      "text/html": [
       "<div>\n",
       "<style scoped>\n",
       "    .dataframe tbody tr th:only-of-type {\n",
       "        vertical-align: middle;\n",
       "    }\n",
       "\n",
       "    .dataframe tbody tr th {\n",
       "        vertical-align: top;\n",
       "    }\n",
       "\n",
       "    .dataframe thead th {\n",
       "        text-align: right;\n",
       "    }\n",
       "</style>\n",
       "<table border=\"1\" class=\"dataframe\">\n",
       "  <thead>\n",
       "    <tr style=\"text-align: right;\">\n",
       "      <th></th>\n",
       "      <th>user_id</th>\n",
       "      <th>REGION</th>\n",
       "      <th>TENURE</th>\n",
       "      <th>MONTANT</th>\n",
       "      <th>FREQUENCE_RECH</th>\n",
       "      <th>REVENUE</th>\n",
       "      <th>ARPU_SEGMENT</th>\n",
       "      <th>FREQUENCE</th>\n",
       "      <th>DATA_VOLUME</th>\n",
       "      <th>ON_NET</th>\n",
       "      <th>ORANGE</th>\n",
       "      <th>TIGO</th>\n",
       "      <th>ZONE1</th>\n",
       "      <th>ZONE2</th>\n",
       "      <th>MRG</th>\n",
       "      <th>REGULARITY</th>\n",
       "      <th>TOP_PACK</th>\n",
       "      <th>FREQ_TOP_PACK</th>\n",
       "      <th>CHURN</th>\n",
       "    </tr>\n",
       "  </thead>\n",
       "  <tbody>\n",
       "    <tr>\n",
       "      <th>0</th>\n",
       "      <td>00000bfd7d50f01092811bc0c8d7b0d6fe7c3596</td>\n",
       "      <td>FATICK</td>\n",
       "      <td>K &gt; 24 month</td>\n",
       "      <td>4250.0</td>\n",
       "      <td>15.0</td>\n",
       "      <td>4251.0</td>\n",
       "      <td>1417.0</td>\n",
       "      <td>17.0</td>\n",
       "      <td>4.0</td>\n",
       "      <td>388.0</td>\n",
       "      <td>46.0</td>\n",
       "      <td>1.0</td>\n",
       "      <td>1.0</td>\n",
       "      <td>2.0</td>\n",
       "      <td>NO</td>\n",
       "      <td>54</td>\n",
       "      <td>On net 200F=Unlimited _call24H</td>\n",
       "      <td>8.0</td>\n",
       "      <td>0</td>\n",
       "    </tr>\n",
       "    <tr>\n",
       "      <th>1</th>\n",
       "      <td>00000cb4a5d760de88fecb38e2f71b7bec52e834</td>\n",
       "      <td>NaN</td>\n",
       "      <td>I 18-21 month</td>\n",
       "      <td>NaN</td>\n",
       "      <td>NaN</td>\n",
       "      <td>NaN</td>\n",
       "      <td>NaN</td>\n",
       "      <td>NaN</td>\n",
       "      <td>NaN</td>\n",
       "      <td>NaN</td>\n",
       "      <td>NaN</td>\n",
       "      <td>NaN</td>\n",
       "      <td>NaN</td>\n",
       "      <td>NaN</td>\n",
       "      <td>NO</td>\n",
       "      <td>4</td>\n",
       "      <td>NaN</td>\n",
       "      <td>NaN</td>\n",
       "      <td>1</td>\n",
       "    </tr>\n",
       "    <tr>\n",
       "      <th>2</th>\n",
       "      <td>00001654a9d9f96303d9969d0a4a851714a4bb57</td>\n",
       "      <td>NaN</td>\n",
       "      <td>K &gt; 24 month</td>\n",
       "      <td>3600.0</td>\n",
       "      <td>2.0</td>\n",
       "      <td>1020.0</td>\n",
       "      <td>340.0</td>\n",
       "      <td>2.0</td>\n",
       "      <td>NaN</td>\n",
       "      <td>90.0</td>\n",
       "      <td>46.0</td>\n",
       "      <td>7.0</td>\n",
       "      <td>NaN</td>\n",
       "      <td>NaN</td>\n",
       "      <td>NO</td>\n",
       "      <td>17</td>\n",
       "      <td>On-net 1000F=10MilF;10d</td>\n",
       "      <td>1.0</td>\n",
       "      <td>0</td>\n",
       "    </tr>\n",
       "    <tr>\n",
       "      <th>3</th>\n",
       "      <td>00001dd6fa45f7ba044bd5d84937be464ce78ac2</td>\n",
       "      <td>DAKAR</td>\n",
       "      <td>K &gt; 24 month</td>\n",
       "      <td>13500.0</td>\n",
       "      <td>15.0</td>\n",
       "      <td>13502.0</td>\n",
       "      <td>4501.0</td>\n",
       "      <td>18.0</td>\n",
       "      <td>43804.0</td>\n",
       "      <td>41.0</td>\n",
       "      <td>102.0</td>\n",
       "      <td>2.0</td>\n",
       "      <td>NaN</td>\n",
       "      <td>NaN</td>\n",
       "      <td>NO</td>\n",
       "      <td>62</td>\n",
       "      <td>Data:1000F=5GB,7d</td>\n",
       "      <td>11.0</td>\n",
       "      <td>0</td>\n",
       "    </tr>\n",
       "    <tr>\n",
       "      <th>4</th>\n",
       "      <td>000028d9e13a595abe061f9b58f3d76ab907850f</td>\n",
       "      <td>DAKAR</td>\n",
       "      <td>K &gt; 24 month</td>\n",
       "      <td>1000.0</td>\n",
       "      <td>1.0</td>\n",
       "      <td>985.0</td>\n",
       "      <td>328.0</td>\n",
       "      <td>1.0</td>\n",
       "      <td>NaN</td>\n",
       "      <td>39.0</td>\n",
       "      <td>24.0</td>\n",
       "      <td>NaN</td>\n",
       "      <td>NaN</td>\n",
       "      <td>NaN</td>\n",
       "      <td>NO</td>\n",
       "      <td>11</td>\n",
       "      <td>Mixt 250F=Unlimited_call24H</td>\n",
       "      <td>2.0</td>\n",
       "      <td>0</td>\n",
       "    </tr>\n",
       "  </tbody>\n",
       "</table>\n",
       "</div>"
      ],
      "text/plain": [
       "                                    user_id  REGION         TENURE  MONTANT  \\\n",
       "0  00000bfd7d50f01092811bc0c8d7b0d6fe7c3596  FATICK   K > 24 month   4250.0   \n",
       "1  00000cb4a5d760de88fecb38e2f71b7bec52e834     NaN  I 18-21 month      NaN   \n",
       "2  00001654a9d9f96303d9969d0a4a851714a4bb57     NaN   K > 24 month   3600.0   \n",
       "3  00001dd6fa45f7ba044bd5d84937be464ce78ac2   DAKAR   K > 24 month  13500.0   \n",
       "4  000028d9e13a595abe061f9b58f3d76ab907850f   DAKAR   K > 24 month   1000.0   \n",
       "\n",
       "   FREQUENCE_RECH  REVENUE  ARPU_SEGMENT  FREQUENCE  DATA_VOLUME  ON_NET  \\\n",
       "0            15.0   4251.0        1417.0       17.0          4.0   388.0   \n",
       "1             NaN      NaN           NaN        NaN          NaN     NaN   \n",
       "2             2.0   1020.0         340.0        2.0          NaN    90.0   \n",
       "3            15.0  13502.0        4501.0       18.0      43804.0    41.0   \n",
       "4             1.0    985.0         328.0        1.0          NaN    39.0   \n",
       "\n",
       "   ORANGE  TIGO  ZONE1  ZONE2 MRG  REGULARITY                        TOP_PACK  \\\n",
       "0    46.0   1.0    1.0    2.0  NO          54  On net 200F=Unlimited _call24H   \n",
       "1     NaN   NaN    NaN    NaN  NO           4                             NaN   \n",
       "2    46.0   7.0    NaN    NaN  NO          17         On-net 1000F=10MilF;10d   \n",
       "3   102.0   2.0    NaN    NaN  NO          62               Data:1000F=5GB,7d   \n",
       "4    24.0   NaN    NaN    NaN  NO          11     Mixt 250F=Unlimited_call24H   \n",
       "\n",
       "   FREQ_TOP_PACK  CHURN  \n",
       "0            8.0      0  \n",
       "1            NaN      1  \n",
       "2            1.0      0  \n",
       "3           11.0      0  \n",
       "4            2.0      0  "
      ]
     },
     "execution_count": 4,
     "metadata": {},
     "output_type": "execute_result"
    }
   ],
   "source": [
    "data = pd.read_csv('Expresso_churn_dataset (1).csv')\n",
    "data.head()"
   ]
  },
  {
   "cell_type": "code",
   "execution_count": 5,
   "id": "02b2dae7",
   "metadata": {},
   "outputs": [
    {
     "name": "stdout",
     "output_type": "stream",
     "text": [
      "<class 'pandas.core.frame.DataFrame'>\n",
      "RangeIndex: 2154048 entries, 0 to 2154047\n",
      "Data columns (total 19 columns):\n",
      " #   Column          Dtype  \n",
      "---  ------          -----  \n",
      " 0   user_id         object \n",
      " 1   REGION          object \n",
      " 2   TENURE          object \n",
      " 3   MONTANT         float64\n",
      " 4   FREQUENCE_RECH  float64\n",
      " 5   REVENUE         float64\n",
      " 6   ARPU_SEGMENT    float64\n",
      " 7   FREQUENCE       float64\n",
      " 8   DATA_VOLUME     float64\n",
      " 9   ON_NET          float64\n",
      " 10  ORANGE          float64\n",
      " 11  TIGO            float64\n",
      " 12  ZONE1           float64\n",
      " 13  ZONE2           float64\n",
      " 14  MRG             object \n",
      " 15  REGULARITY      int64  \n",
      " 16  TOP_PACK        object \n",
      " 17  FREQ_TOP_PACK   float64\n",
      " 18  CHURN           int64  \n",
      "dtypes: float64(12), int64(2), object(5)\n",
      "memory usage: 312.2+ MB\n"
     ]
    }
   ],
   "source": [
    "data.info()"
   ]
  },
  {
   "cell_type": "code",
   "execution_count": 6,
   "id": "bd7b93e7",
   "metadata": {},
   "outputs": [
    {
     "data": {
      "text/plain": [
       "user_id                 0\n",
       "REGION             849299\n",
       "TENURE                  0\n",
       "MONTANT            756739\n",
       "FREQUENCE_RECH     756739\n",
       "REVENUE            726048\n",
       "ARPU_SEGMENT       726048\n",
       "FREQUENCE          726048\n",
       "DATA_VOLUME       1060433\n",
       "ON_NET             786675\n",
       "ORANGE             895248\n",
       "TIGO              1290016\n",
       "ZONE1             1984327\n",
       "ZONE2             2017224\n",
       "MRG                     0\n",
       "REGULARITY              0\n",
       "TOP_PACK           902594\n",
       "FREQ_TOP_PACK      902594\n",
       "CHURN                   0\n",
       "dtype: int64"
      ]
     },
     "execution_count": 6,
     "metadata": {},
     "output_type": "execute_result"
    }
   ],
   "source": [
    "data.isnull().sum()"
   ]
  },
  {
   "cell_type": "code",
   "execution_count": 7,
   "id": "0fe44ebe",
   "metadata": {},
   "outputs": [],
   "source": [
    "# Splitting into numerical and categorical columns\n",
    "\n",
    "cat = data.select_dtypes('object')\n",
    "num = data.select_dtypes('number')\n",
    "\n",
    "# filling categorical columns with the modal value of the column\n",
    "for i in data.columns:\n",
    "    if i in cat.columns:\n",
    "        data[i] = data[i].fillna(data[i].mode()[0])\n",
    "    elif i in num.columns:\n",
    "        data[i] = data[i].fillna(data[i].mean())"
   ]
  },
  {
   "cell_type": "code",
   "execution_count": 9,
   "metadata": {},
   "outputs": [
    {
     "data": {
      "text/plain": [
       "Index(['user_id', 'REGION', 'TENURE', 'MONTANT', 'FREQUENCE_RECH', 'REVENUE',\n",
       "       'ARPU_SEGMENT', 'FREQUENCE', 'DATA_VOLUME', 'ON_NET', 'ORANGE', 'TIGO',\n",
       "       'ZONE1', 'ZONE2', 'MRG', 'REGULARITY', 'TOP_PACK', 'FREQ_TOP_PACK',\n",
       "       'CHURN'],\n",
       "      dtype='object')"
      ]
     },
     "execution_count": 9,
     "metadata": {},
     "output_type": "execute_result"
    }
   ],
   "source": [
    "data.columns"
   ]
  },
  {
   "cell_type": "code",
   "execution_count": 10,
   "metadata": {},
   "outputs": [
    {
     "data": {
      "text/plain": [
       "Index(['user_id', 'REGION', 'TENURE', 'MRG', 'TOP_PACK'], dtype='object')"
      ]
     },
     "execution_count": 10,
     "metadata": {},
     "output_type": "execute_result"
    }
   ],
   "source": [
    "cat.columns"
   ]
  },
  {
   "cell_type": "code",
   "execution_count": 11,
   "metadata": {},
   "outputs": [
    {
     "data": {
      "text/plain": [
       "Index(['MONTANT', 'FREQUENCE_RECH', 'REVENUE', 'ARPU_SEGMENT', 'FREQUENCE',\n",
       "       'DATA_VOLUME', 'ON_NET', 'ORANGE', 'TIGO', 'ZONE1', 'ZONE2',\n",
       "       'REGULARITY', 'FREQ_TOP_PACK', 'CHURN'],\n",
       "      dtype='object')"
      ]
     },
     "execution_count": 11,
     "metadata": {},
     "output_type": "execute_result"
    }
   ],
   "source": [
    "num.columns"
   ]
  },
  {
   "cell_type": "code",
   "execution_count": 12,
   "metadata": {},
   "outputs": [
    {
     "data": {
      "text/plain": [
       "TENURE\n",
       "K > 24 month     2043201\n",
       "I 18-21 month      45278\n",
       "H 15-18 month      26006\n",
       "G 12-15 month      14901\n",
       "J 21-24 month      12725\n",
       "F 9-12 month        9328\n",
       "E 6-9 month         1839\n",
       "D 3-6 month          770\n",
       "Name: count, dtype: int64"
      ]
     },
     "execution_count": 12,
     "metadata": {},
     "output_type": "execute_result"
    }
   ],
   "source": [
    "data['TENURE'].value_counts()"
   ]
  },
  {
   "cell_type": "code",
   "execution_count": 13,
   "id": "0ccf4897",
   "metadata": {},
   "outputs": [
    {
     "data": {
      "text/plain": [
       "TENURE\n",
       "24    2043201\n",
       "18      45278\n",
       "15      26006\n",
       "12      14901\n",
       "21      12725\n",
       "9        9328\n",
       "6        1839\n",
       "3         770\n",
       "Name: count, dtype: int64"
      ]
     },
     "execution_count": 13,
     "metadata": {},
     "output_type": "execute_result"
    }
   ],
   "source": [
    "tenure_dict = {'K > 24 month': 24,\n",
    "               'J 21-24 month': 21,\n",
    "               'I 18-21 month': 18,\n",
    "               'H 15-18 month': 15,\n",
    "               'G 12-15 month': 12,\n",
    "               'F 9-12 month' : 9,\n",
    "               'E 6-9 month': 6,\n",
    "               'D 3-6 month': 3\n",
    "               }\n",
    "\n",
    "data['TENURE'] = data['TENURE'].map(tenure_dict)\n",
    "data['TENURE'].value_counts()"
   ]
  },
  {
   "cell_type": "code",
   "execution_count": 14,
   "id": "a518eeca",
   "metadata": {},
   "outputs": [
    {
     "data": {
      "text/plain": [
       "array(['On net 200F=Unlimited _call24H', 'All-net 500F=2000F;5d',\n",
       "       'On-net 1000F=10MilF;10d', 'Data:1000F=5GB,7d',\n",
       "       'Mixt 250F=Unlimited_call24H',\n",
       "       'MIXT:500F= 2500F on net _2500F off net;2d', 'On-net 500F_FNF;3d',\n",
       "       'Data: 100 F=40MB,24H', 'MIXT: 200mnoff net _unl on net _5Go;30d',\n",
       "       'Jokko_Daily', 'Data: 200 F=100MB,24H', 'Data:490F=1GB,7d',\n",
       "       'Twter_U2opia_Daily', 'On-net 500=4000,10d', 'Data:1000F=2GB,30d',\n",
       "       'IVR Echat_Daily_50F', 'Pilot_Youth4_490',\n",
       "       'All-net 500F =2000F_AllNet_Unlimited', 'Twter_U2opia_Weekly',\n",
       "       'Data:200F=Unlimited,24H', 'On-net 200F=60mn;1d',\n",
       "       'All-net 600F= 3000F ;5d', 'Pilot_Youth1_290',\n",
       "       'All-net 1000F=(3000F On+3000F Off);5d', 'VAS(IVR_Radio_Daily)',\n",
       "       'Data:3000F=10GB,30d', 'All-net 1000=5000;5d',\n",
       "       'Twter_U2opia_Monthly', 'MIXT: 390F=04HOn-net_400SMS_400 Mo;4h\\t',\n",
       "       'FNF2 ( JAPPANTE)', 'Yewouleen_PKG', 'Data:150F=SPPackage1,24H',\n",
       "       'WIFI_Family_2MBPS', 'Data:500F=2GB,24H', 'MROMO_TIMWES_RENEW',\n",
       "       'New_YAKALMA_4_ALL', 'Data:1500F=3GB,30D',\n",
       "       'All-net 500F=4000F ; 5d', 'Jokko_promo', 'All-net 300=600;2d',\n",
       "       'Data:300F=100MB,2d',\n",
       "       'MIXT: 590F=02H_On-net_200SMS_200 Mo;24h\\t\\t',\n",
       "       'All-net 500F=1250F_AllNet_1250_Onnet;48h', 'Facebook_MIX_2D',\n",
       "       '500=Unlimited3Day', 'On net 200F= 3000F_10Mo ;24H',\n",
       "       '200=Unlimited1Day', 'YMGX 100=1 hour FNF, 24H/1 month',\n",
       "       'SUPERMAGIK_5000', 'Data:DailyCycle_Pilot_1.5GB', 'Staff_CPE_Rent',\n",
       "       'MIXT:1000F=4250 Off net _ 4250F On net _100Mo; 5d',\n",
       "       'Data:50F=30MB_24H', 'Data:700F=SPPackage1,7d',\n",
       "       'Data: 490F=Night,00H-08H', 'Data:700F=1.5GB,7d',\n",
       "       'Data:1500F=SPPackage1,30d', 'Data:30Go_V 30_Days',\n",
       "       'MROMO_TIMWES_OneDAY', 'On-net 300F=1800F;3d',\n",
       "       'All-net 5000= 20000off+20000on;30d', 'WIFI_ Family _4MBPS',\n",
       "       'CVM_on-net bundle 500=5000', 'Internat: 1000F_Zone_3;24h\\t\\t',\n",
       "       'DataPack_Incoming', 'Jokko_Monthly', 'EVC_500=2000F',\n",
       "       'On-net 2000f_One_Month_100H; 30d',\n",
       "       'MIXT:10000F=10hAllnet_3Go_1h_Zone3;30d\\t\\t', 'EVC_Jokko_Weekly',\n",
       "       '200F=10mnOnNetValid1H', 'IVR Echat_Weekly_200F',\n",
       "       'WIFI_ Family _10MBPS', 'Internat: 1000F_Zone_1;24H\\t\\t',\n",
       "       'Jokko_Weekly', 'SUPERMAGIK_1000',\n",
       "       'MIXT: 500F=75(SMS, ONNET, Mo)_1000FAllNet;24h\\t\\t',\n",
       "       'VAS(IVR_Radio_Monthly)',\n",
       "       'MIXT: 5000F=80Konnet_20Koffnet_250Mo;30d\\t\\t',\n",
       "       'Data: 200F=1GB,24H', 'EVC_JOKKO30',\n",
       "       'NEW_CLIR_TEMPALLOWED_LIBERTE_MOBILE', 'TelmunCRBT_daily',\n",
       "       'FIFA_TS_weekly', 'VAS(IVR_Radio_Weekly)',\n",
       "       'Internat: 2000F_Zone_2;24H\\t\\t', 'APANews_weekly', 'EVC_100Mo',\n",
       "       'pack_chinguitel_24h', 'Data_EVC_2Go24H',\n",
       "       'Mixt : 500F=2500Fonnet_2500Foffnet ;5d', 'FIFA_TS_daily',\n",
       "       'MIXT: 4900F= 10H on net_1,5Go ;30d', 'CVM_200f=400MB',\n",
       "       'IVR Echat_Monthly_500F', 'All-net 500= 4000off+4000on;24H',\n",
       "       'FNF_Youth_ESN', 'Data:1000F=700MB,7d', '1000=Unlimited7Day',\n",
       "       'Incoming_Bonus_woma', 'CVM_100f=200 MB', 'CVM_100F_unlimited',\n",
       "       'pilot_offer6', '305155009', 'Postpaid FORFAIT 10H Package',\n",
       "       'EVC_1Go', 'GPRS_3000Equal10GPORTAL',\n",
       "       'NEW_CLIR_PERMANENT_LIBERTE_MOBILE', 'Data_Mifi_10Go_Monthly',\n",
       "       '1500=Unlimited7Day', 'EVC_700Mo', 'CVM_100f=500 onNet',\n",
       "       'CVM_On-net 1300f=12500', 'pilot_offer5', 'EVC_4900=12000F',\n",
       "       'CVM_On-net 400f=2200F', 'YMGX on-net 100=700F, 24H',\n",
       "       'CVM_150F_unlimited', 'EVC_MEGA10000F', 'pilot_offer7',\n",
       "       'CVM_500f=2GB', 'SMS Max', '301765007', '150=unlimited pilot auto',\n",
       "       'MegaChrono_3000F=12500F TOUS RESEAUX', 'pilot_offer4',\n",
       "       'Go-NetPro-4 Go', '200=unlimited pilot auto',\n",
       "       'ESN_POSTPAID_CLASSIC_RENT', 'Data_Mifi_10Go',\n",
       "       'Data:New-GPRS_PKG_1500F', 'GPRS_BKG_1000F MIFI',\n",
       "       'Data:OneTime_Pilot_1.5GB', 'FIFA_TS_monthly',\n",
       "       'GPRS_PKG_5GO_ILLIMITE', 'Data_Mifi_20Go', 'APANews_monthly',\n",
       "       'NEW_CLIR_TEMPRESTRICTED_LIBERTE_MOBILE', 'GPRS_5Go_7D_PORTAL',\n",
       "       'Package3_Monthly'], dtype=object)"
      ]
     },
     "execution_count": 14,
     "metadata": {},
     "output_type": "execute_result"
    }
   ],
   "source": [
    "data['TOP_PACK'].unique()"
   ]
  },
  {
   "cell_type": "code",
   "execution_count": 15,
   "metadata": {},
   "outputs": [
    {
     "data": {
      "text/plain": [
       "REGION\n",
       "DAKAR          1362570\n",
       "THIES           180052\n",
       "SAINT-LOUIS     119886\n",
       "LOUGA            99053\n",
       "KAOLACK          96986\n",
       "DIOURBEL         66911\n",
       "TAMBACOUNDA      55074\n",
       "KAFFRINE         43963\n",
       "KOLDA            38743\n",
       "FATICK           35643\n",
       "MATAM            29083\n",
       "ZIGUINCHOR       21945\n",
       "SEDHIOU           3119\n",
       "KEDOUGOU          1020\n",
       "Name: count, dtype: int64"
      ]
     },
     "execution_count": 15,
     "metadata": {},
     "output_type": "execute_result"
    }
   ],
   "source": [
    "data['REGION'].value_counts()"
   ]
  },
  {
   "cell_type": "code",
   "execution_count": 16,
   "metadata": {},
   "outputs": [],
   "source": [
    "values = {}\n",
    "for i in cat.columns:\n",
    "  values[i] = cat[i].unique()"
   ]
  },
  {
   "cell_type": "code",
   "execution_count": 17,
   "id": "cc0dc618",
   "metadata": {},
   "outputs": [
    {
     "data": {
      "text/plain": [
       "{'user_id': array(['00000bfd7d50f01092811bc0c8d7b0d6fe7c3596',\n",
       "        '00000cb4a5d760de88fecb38e2f71b7bec52e834',\n",
       "        '00001654a9d9f96303d9969d0a4a851714a4bb57', ...,\n",
       "        'fffff172fda1b4bb38a95385951908bb92379809',\n",
       "        'fffff5911296937a37f09a37a549da2e0dad6dbb',\n",
       "        'fffff6dbff1508ea2bfe814e5ab2729ce6b788c2'], dtype=object),\n",
       " 'REGION': array(['FATICK', nan, 'DAKAR', 'LOUGA', 'TAMBACOUNDA', 'KAOLACK', 'THIES',\n",
       "        'SAINT-LOUIS', 'KOLDA', 'KAFFRINE', 'DIOURBEL', 'ZIGUINCHOR',\n",
       "        'MATAM', 'SEDHIOU', 'KEDOUGOU'], dtype=object),\n",
       " 'TENURE': array(['K > 24 month', 'I 18-21 month', 'G 12-15 month', 'H 15-18 month',\n",
       "        'J 21-24 month', 'F 9-12 month', 'D 3-6 month', 'E 6-9 month'],\n",
       "       dtype=object),\n",
       " 'MRG': array(['NO'], dtype=object),\n",
       " 'TOP_PACK': array(['On net 200F=Unlimited _call24H', nan, 'On-net 1000F=10MilF;10d',\n",
       "        'Data:1000F=5GB,7d', 'Mixt 250F=Unlimited_call24H',\n",
       "        'MIXT:500F= 2500F on net _2500F off net;2d',\n",
       "        'All-net 500F=2000F;5d', 'On-net 500F_FNF;3d',\n",
       "        'Data: 100 F=40MB,24H', 'MIXT: 200mnoff net _unl on net _5Go;30d',\n",
       "        'Jokko_Daily', 'Data: 200 F=100MB,24H', 'Data:490F=1GB,7d',\n",
       "        'Twter_U2opia_Daily', 'On-net 500=4000,10d', 'Data:1000F=2GB,30d',\n",
       "        'IVR Echat_Daily_50F', 'Pilot_Youth4_490',\n",
       "        'All-net 500F =2000F_AllNet_Unlimited', 'Twter_U2opia_Weekly',\n",
       "        'Data:200F=Unlimited,24H', 'On-net 200F=60mn;1d',\n",
       "        'All-net 600F= 3000F ;5d', 'Pilot_Youth1_290',\n",
       "        'All-net 1000F=(3000F On+3000F Off);5d', 'VAS(IVR_Radio_Daily)',\n",
       "        'Data:3000F=10GB,30d', 'All-net 1000=5000;5d',\n",
       "        'Twter_U2opia_Monthly', 'MIXT: 390F=04HOn-net_400SMS_400 Mo;4h\\t',\n",
       "        'FNF2 ( JAPPANTE)', 'Yewouleen_PKG', 'Data:150F=SPPackage1,24H',\n",
       "        'WIFI_Family_2MBPS', 'Data:500F=2GB,24H', 'MROMO_TIMWES_RENEW',\n",
       "        'New_YAKALMA_4_ALL', 'Data:1500F=3GB,30D',\n",
       "        'All-net 500F=4000F ; 5d', 'Jokko_promo', 'All-net 300=600;2d',\n",
       "        'Data:300F=100MB,2d',\n",
       "        'MIXT: 590F=02H_On-net_200SMS_200 Mo;24h\\t\\t',\n",
       "        'All-net 500F=1250F_AllNet_1250_Onnet;48h', 'Facebook_MIX_2D',\n",
       "        '500=Unlimited3Day', 'On net 200F= 3000F_10Mo ;24H',\n",
       "        '200=Unlimited1Day', 'YMGX 100=1 hour FNF, 24H/1 month',\n",
       "        'SUPERMAGIK_5000', 'Data:DailyCycle_Pilot_1.5GB', 'Staff_CPE_Rent',\n",
       "        'MIXT:1000F=4250 Off net _ 4250F On net _100Mo; 5d',\n",
       "        'Data:50F=30MB_24H', 'Data:700F=SPPackage1,7d',\n",
       "        'Data: 490F=Night,00H-08H', 'Data:700F=1.5GB,7d',\n",
       "        'Data:1500F=SPPackage1,30d', 'Data:30Go_V 30_Days',\n",
       "        'MROMO_TIMWES_OneDAY', 'On-net 300F=1800F;3d',\n",
       "        'All-net 5000= 20000off+20000on;30d', 'WIFI_ Family _4MBPS',\n",
       "        'CVM_on-net bundle 500=5000', 'Internat: 1000F_Zone_3;24h\\t\\t',\n",
       "        'DataPack_Incoming', 'Jokko_Monthly', 'EVC_500=2000F',\n",
       "        'On-net 2000f_One_Month_100H; 30d',\n",
       "        'MIXT:10000F=10hAllnet_3Go_1h_Zone3;30d\\t\\t', 'EVC_Jokko_Weekly',\n",
       "        '200F=10mnOnNetValid1H', 'IVR Echat_Weekly_200F',\n",
       "        'WIFI_ Family _10MBPS', 'Internat: 1000F_Zone_1;24H\\t\\t',\n",
       "        'Jokko_Weekly', 'SUPERMAGIK_1000',\n",
       "        'MIXT: 500F=75(SMS, ONNET, Mo)_1000FAllNet;24h\\t\\t',\n",
       "        'VAS(IVR_Radio_Monthly)',\n",
       "        'MIXT: 5000F=80Konnet_20Koffnet_250Mo;30d\\t\\t',\n",
       "        'Data: 200F=1GB,24H', 'EVC_JOKKO30',\n",
       "        'NEW_CLIR_TEMPALLOWED_LIBERTE_MOBILE', 'TelmunCRBT_daily',\n",
       "        'FIFA_TS_weekly', 'VAS(IVR_Radio_Weekly)',\n",
       "        'Internat: 2000F_Zone_2;24H\\t\\t', 'APANews_weekly', 'EVC_100Mo',\n",
       "        'pack_chinguitel_24h', 'Data_EVC_2Go24H',\n",
       "        'Mixt : 500F=2500Fonnet_2500Foffnet ;5d', 'FIFA_TS_daily',\n",
       "        'MIXT: 4900F= 10H on net_1,5Go ;30d', 'CVM_200f=400MB',\n",
       "        'IVR Echat_Monthly_500F', 'All-net 500= 4000off+4000on;24H',\n",
       "        'FNF_Youth_ESN', 'Data:1000F=700MB,7d', '1000=Unlimited7Day',\n",
       "        'Incoming_Bonus_woma', 'CVM_100f=200 MB', 'CVM_100F_unlimited',\n",
       "        'pilot_offer6', '305155009', 'Postpaid FORFAIT 10H Package',\n",
       "        'EVC_1Go', 'GPRS_3000Equal10GPORTAL',\n",
       "        'NEW_CLIR_PERMANENT_LIBERTE_MOBILE', 'Data_Mifi_10Go_Monthly',\n",
       "        '1500=Unlimited7Day', 'EVC_700Mo', 'CVM_100f=500 onNet',\n",
       "        'CVM_On-net 1300f=12500', 'pilot_offer5', 'EVC_4900=12000F',\n",
       "        'CVM_On-net 400f=2200F', 'YMGX on-net 100=700F, 24H',\n",
       "        'CVM_150F_unlimited', 'EVC_MEGA10000F', 'pilot_offer7',\n",
       "        'CVM_500f=2GB', 'SMS Max', '301765007', '150=unlimited pilot auto',\n",
       "        'MegaChrono_3000F=12500F TOUS RESEAUX', 'pilot_offer4',\n",
       "        'Go-NetPro-4 Go', '200=unlimited pilot auto',\n",
       "        'ESN_POSTPAID_CLASSIC_RENT', 'Data_Mifi_10Go',\n",
       "        'Data:New-GPRS_PKG_1500F', 'GPRS_BKG_1000F MIFI',\n",
       "        'Data:OneTime_Pilot_1.5GB', 'FIFA_TS_monthly',\n",
       "        'GPRS_PKG_5GO_ILLIMITE', 'Data_Mifi_20Go', 'APANews_monthly',\n",
       "        'NEW_CLIR_TEMPRESTRICTED_LIBERTE_MOBILE', 'GPRS_5Go_7D_PORTAL',\n",
       "        'Package3_Monthly'], dtype=object)}"
      ]
     },
     "execution_count": 17,
     "metadata": {},
     "output_type": "execute_result"
    }
   ],
   "source": [
    "values"
   ]
  },
  {
   "cell_type": "code",
   "execution_count": 19,
   "id": "b7bf545d",
   "metadata": {},
   "outputs": [],
   "source": [
    "region_encoder = LabelEncoder()\n",
    "data['REGION'] = region_encoder.fit_transform(data['REGION'])"
   ]
  },
  {
   "cell_type": "code",
   "execution_count": 20,
   "id": "4908c519",
   "metadata": {},
   "outputs": [],
   "source": [
    "tp_encoder = LabelEncoder()\n",
    "data['TOP_PACK'] = tp_encoder.fit_transform(data['TOP_PACK'])"
   ]
  },
  {
   "cell_type": "code",
   "execution_count": 23,
   "id": "6fde2824",
   "metadata": {},
   "outputs": [],
   "source": [
    "data = data.drop('user_id', axis = 1)"
   ]
  },
  {
   "cell_type": "code",
   "execution_count": 24,
   "id": "248a9105",
   "metadata": {},
   "outputs": [],
   "source": [
    "x = data.drop(['MRG', 'CHURN'], axis = 1)\n",
    "y = data['CHURN'].astype('int')\n",
    "\n",
    "x_train, x_test, y_train, y_test = train_test_split(x,\n",
    "                                                    y,\n",
    "                                                    test_size = 0.2,\n",
    "                                                    random_state = 42)"
   ]
  },
  {
   "cell_type": "code",
   "execution_count": 25,
   "id": "bd6d71ce",
   "metadata": {},
   "outputs": [
    {
     "name": "stdout",
     "output_type": "stream",
     "text": [
      "              precision    recall  f1-score   support\n",
      "\n",
      "           0       0.91      0.93      0.92    349773\n",
      "           1       0.66      0.61      0.63     81037\n",
      "\n",
      "    accuracy                           0.87    430810\n",
      "   macro avg       0.78      0.77      0.78    430810\n",
      "weighted avg       0.86      0.87      0.87    430810\n",
      "\n"
     ]
    }
   ],
   "source": [
    "model = RandomForestClassifier(n_estimators = 4)\n",
    "model.fit(x_train, y_train)\n",
    "y_pred = model.predict(x_test)\n",
    "acc = classification_report(y_test, y_pred)\n",
    "print(acc)"
   ]
  },
  {
   "cell_type": "code",
   "execution_count": 26,
   "id": "0310cdeb",
   "metadata": {},
   "outputs": [
    {
     "data": {
      "text/plain": [
       "['tp_encoder.joblib']"
      ]
     },
     "execution_count": 26,
     "metadata": {},
     "output_type": "execute_result"
    }
   ],
   "source": [
    "import joblib\n",
    "joblib.dump(model, \"rf_model.joblib\")\n",
    "joblib.dump(region_encoder, \"region_encoder.joblib\")\n",
    "joblib.dump(tp_encoder, \"tp_encoder.joblib\")"
   ]
  }
 ],
 "metadata": {
  "kernelspec": {
   "display_name": "kobe",
   "language": "python",
   "name": "python3"
  },
  "language_info": {
   "codemirror_mode": {
    "name": "ipython",
    "version": 3
   },
   "file_extension": ".py",
   "mimetype": "text/x-python",
   "name": "python",
   "nbconvert_exporter": "python",
   "pygments_lexer": "ipython3",
   "version": "3.11.5"
  }
 },
 "nbformat": 4,
 "nbformat_minor": 5
}
